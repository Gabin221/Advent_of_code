{
 "cells": [
  {
   "cell_type": "markdown",
   "metadata": {},
   "source": [
    "# 2023"
   ]
  },
  {
   "cell_type": "code",
   "execution_count": 19,
   "metadata": {},
   "outputs": [],
   "source": [
    "import re\n",
    "from operator import mul\n",
    "from queue import Queue\n",
    "import numpy as np "
   ]
  },
  {
   "cell_type": "code",
   "execution_count": 51,
   "metadata": {},
   "outputs": [
    {
     "name": "stdout",
     "output_type": "stream",
     "text": [
      "Réponse jour 1 partie 1 : 54304\n",
      "Réponse jour 1 partie 2 : 54418\n"
     ]
    }
   ],
   "source": [
    "def j1():\n",
    "    filename = \"Input/inputj1.txt\"\n",
    "    input = []\n",
    "    with open(filename) as file:\n",
    "        input = [line.strip() for line in file.readlines()]\n",
    "        \n",
    "    def partie1():\n",
    "        total = 0\n",
    "        for line in input:\n",
    "            line = re.sub('\\D', '', line)\n",
    "            nums = int(line[0] + line[-1])\n",
    "            total += nums\n",
    "        print(f\"Réponse jour 1 partie 1 : {total}\")\n",
    "    \n",
    "    def partie2():\n",
    "        values = {\n",
    "            \"one\": \"1\", \n",
    "            \"two\": \"2\", \n",
    "            \"three\": \"3\", \n",
    "            \"four\": \"4\", \n",
    "            \"five\": \"5\", \n",
    "            \"six\": \"6\", \n",
    "            \"seven\": \"7\", \n",
    "            \"eight\": \"8\", \n",
    "            \"nine\": \"9\"\n",
    "            }\n",
    "        pairs = []\n",
    "        for line in input:\n",
    "            digits = []\n",
    "            for i,c in enumerate(line):\n",
    "                if line[i].isdigit():\n",
    "                    digits.append(line[i])\n",
    "                else:\n",
    "                    for k in values.keys():\n",
    "                        if line[i:].startswith(k):\n",
    "                            digits.append(values[k])\n",
    "            pairs.append(int(f\"{digits[0]}{digits[-1]}\"))\n",
    "        \n",
    "        print(f\"Réponse jour 1 partie 2 : {sum(pairs)}\")\n",
    "    \n",
    "    partie1()\n",
    "    partie2()\n",
    "\n",
    "j1()"
   ]
  },
  {
   "cell_type": "code",
   "execution_count": 52,
   "metadata": {},
   "outputs": [
    {
     "name": "stdout",
     "output_type": "stream",
     "text": [
      "Réponse jour 2 partie 1 : 2101\n",
      "Réponse jour 2 partie 2 : 58269\n"
     ]
    }
   ],
   "source": [
    "def j2():\n",
    "    filename = \"Input/inputj2.txt\"\n",
    "    input = []\n",
    "    with open(filename) as file:\n",
    "        input = [line.strip() for line in file.readlines()]\n",
    "        \n",
    "    def partie1():\n",
    "        gameID = 0\n",
    "        gameIDSum = 0\n",
    "        reds = 12\n",
    "        greens = 13\n",
    "        blues = 14\n",
    "        gameIDRegex = \"(\\\\d+(?=:))\"\n",
    "        setsRegex = \"(?<=:)(.*)\"\n",
    "        redsRegex = \"(\\\\d+)(?=\\\\sred)\"\n",
    "        greensRegex = \"(\\\\d+)(?=\\\\sgreen)\"\n",
    "        bluesRegex = \"(\\\\d+)(?=\\\\sblue)\"\n",
    "\n",
    "        for line in input:\n",
    "            valid = True\n",
    "            gameID = int(re.search(gameIDRegex, line).group(0))\n",
    "            sets = re.search(setsRegex, line).group(0)\n",
    "            sets = re.split(\";\", sets)\n",
    "            for set in sets:\n",
    "                currRed = re.search(redsRegex, set)\n",
    "                if(currRed):\n",
    "                    currRed = int(currRed.group(0))\n",
    "                    if(currRed > reds): valid = False\n",
    "\n",
    "                currGreen = re.search(greensRegex, set)\n",
    "                if(currGreen):\n",
    "                    currGreen = int(currGreen.group(0))\n",
    "                    if(currGreen > greens): valid = False\n",
    "\n",
    "\n",
    "                currBlue = re.search(bluesRegex, set)\n",
    "                if(currBlue):\n",
    "                    currBlue = int(currBlue.group(0))\n",
    "                    if(currBlue > blues): valid = False\n",
    "                    \n",
    "            if(valid): gameIDSum += gameID\n",
    "\n",
    "        print(f\"Réponse jour 2 partie 1 : {str(gameIDSum)}\")\n",
    "    \n",
    "    def partie2():\n",
    "        sumOfPowers = 0\n",
    "        setsRegex = \"(?<=:)(.*)\"\n",
    "        redsRegex = \"(\\\\d+)(?=\\\\sred)\"\n",
    "        greensRegex = \"(\\\\d+)(?=\\\\sgreen)\"\n",
    "        bluesRegex = \"(\\\\d+)(?=\\\\sblue)\"\n",
    "\n",
    "        for line in input:\n",
    "            redMax = 0\n",
    "            greenMax = 0\n",
    "            blueMax = 0\n",
    "            sets = re.search(setsRegex, line).group(0)\n",
    "            sets = re.split(\";\", sets)\n",
    "            for set in sets:\n",
    "                currRed = re.search(redsRegex, set)\n",
    "                if(currRed):\n",
    "                    currRed = int(currRed.group(0))\n",
    "                    if(currRed > redMax): redMax = currRed\n",
    "\n",
    "                currGreen = re.search(greensRegex, set)\n",
    "                if(currGreen):\n",
    "                    currGreen = int(currGreen.group(0))\n",
    "                    if(currGreen > greenMax): greenMax = currGreen\n",
    "\n",
    "                currBlue = re.search(bluesRegex, set)\n",
    "                if(currBlue):\n",
    "                    currBlue = int(currBlue.group(0))\n",
    "                    if(currBlue > blueMax): blueMax = currBlue\n",
    "            power = redMax * greenMax * blueMax\n",
    "            sumOfPowers += power\n",
    "\n",
    "        print(f\"Réponse jour 2 partie 2 : {str(sumOfPowers)}\")\n",
    "    \n",
    "    partie1()\n",
    "    partie2()\n",
    "    \n",
    "j2()"
   ]
  },
  {
   "cell_type": "code",
   "execution_count": 53,
   "metadata": {},
   "outputs": [
    {
     "name": "stdout",
     "output_type": "stream",
     "text": [
      "Réponse jour 3 partie 1 : 557705\n",
      "Réponse jour 3 partie 2 : 84266818\n"
     ]
    }
   ],
   "source": [
    "def j3():\n",
    "    filename = \"Input/inputj3.txt\"\n",
    "        \n",
    "    with open(filename, 'r') as f:\n",
    "        input = f.read()\n",
    "        \n",
    "    def partie1():\n",
    "        lines = input.split('\\n')\n",
    "\n",
    "        symbol_regex = r'[^.\\d]'\n",
    "        symbol_adjacent = set()\n",
    "        for i, line in enumerate(lines):\n",
    "            for m in re.finditer(symbol_regex, line):\n",
    "                j = m.start()\n",
    "                symbol_adjacent |= {(r, c) for r in range(i-1, i+2) for c in range(j-1, j+2)}\n",
    "\n",
    "        number_regex = r'\\d+'\n",
    "        part_num_sum = 0\n",
    "        for i, line in enumerate(lines):\n",
    "            for m in re.finditer(number_regex, line):\n",
    "                if any((i, j) in symbol_adjacent for j in range(*m.span())):\n",
    "                    part_num_sum += int(m.group())\n",
    "\n",
    "        print(f\"Réponse jour 3 partie 1 : {part_num_sum}\")\n",
    "    \n",
    "    def partie2():\n",
    "        lines = input.split('\\n')\n",
    "\n",
    "        gear_regex = r'\\*'\n",
    "        gears = dict()\n",
    "        for i, line in enumerate(lines):\n",
    "            for m in re.finditer(gear_regex, line):\n",
    "                gears[(i, m.start())] = []\n",
    "\n",
    "        number_regex = r'\\d+'\n",
    "        for i, line in enumerate(lines):\n",
    "            for m in re.finditer(number_regex, line):\n",
    "                for r in range(i-1, i+2):\n",
    "                    for c in range(m.start()-1, m.end()+1):\n",
    "                        if (r, c) in gears:\n",
    "                            gears[(r, c)].append(int(m.group()))\n",
    "\n",
    "        gear_ratio_sum = 0\n",
    "        for nums in gears.values():\n",
    "            if len(nums) == 2:\n",
    "                gear_ratio_sum += mul(*nums)\n",
    "\n",
    "        print(f\"Réponse jour 3 partie 2 : {gear_ratio_sum}\")\n",
    "    \n",
    "    partie1()\n",
    "    partie2()\n",
    "    \n",
    "j3()"
   ]
  },
  {
   "cell_type": "code",
   "execution_count": 96,
   "metadata": {},
   "outputs": [
    {
     "name": "stdout",
     "output_type": "stream",
     "text": [
      "Réponse jour 4 partie 1 : 18653\n",
      "Réponse jour 4 partie 2 : 5921508\n"
     ]
    }
   ],
   "source": [
    "def j4():\n",
    "    filename = \"Input/inputj4.txt\"\n",
    "    with open(filename, 'r') as f:\n",
    "        input = f.read()\n",
    "        \n",
    "    def partie1():\n",
    "        regex = r':(.*)\\|(.*)'\n",
    "        points = 0\n",
    "        for win_nums, true_nums in re.findall(regex, input):\n",
    "            overlap = set(win_nums.split()) & set(true_nums.split())\n",
    "            if overlap:\n",
    "                points += 2 ** (len(overlap) - 1)\n",
    "\n",
    "        print(f\"Réponse jour 4 partie 1 : {points}\")\n",
    "    \n",
    "    def partie2():\n",
    "        lines = []\n",
    "        with open(filename) as file:\n",
    "            lines = [line.strip() for line in file.readlines()]\n",
    "        ans = 0\n",
    "        d = {}\n",
    "        q = Queue()\n",
    "\n",
    "        for line in lines:\n",
    "            cid, numbers = line.split(':')\n",
    "            cid = int(cid[4:])\n",
    "            winner, ours = numbers.split('|')\n",
    "            ws = set(winner.split())\n",
    "            os = set(ours.split())\n",
    "            matches = ws & os\n",
    "\n",
    "            # for each card, we just need to know how many new cards we add to the queue\n",
    "            d[cid] = len(matches)\n",
    "            # and fill the queue with the initial cards\n",
    "            q.put(cid)\n",
    "\n",
    "\n",
    "        # we proccess the queue until it's empty\n",
    "        while not q.empty():\n",
    "            ans += 1\n",
    "            k = q.get()\n",
    "            # and for each card, we add how many matches it had\n",
    "            # starting from it's id (k) + 1\n",
    "            for i in range(k + 1, k + d[k] + 1):\n",
    "                q.put(i)\n",
    "        \n",
    "        print(f\"Réponse jour 4 partie 2 : {ans}\")\n",
    "    \n",
    "    partie1()\n",
    "    partie2()\n",
    "    \n",
    "j4()"
   ]
  },
  {
   "cell_type": "code",
   "execution_count": 5,
   "metadata": {},
   "outputs": [
    {
     "name": "stdout",
     "output_type": "stream",
     "text": [
      "Réponse jour 5 partie 1 : 486613012\n",
      "Réponse jour 5 partie 2 : 56931769\n"
     ]
    }
   ],
   "source": [
    "def j5():\n",
    "    filename = \"Input/inputj5.txt\"\n",
    "    with open(filename, 'r') as f:\n",
    "        input = f.read()\n",
    "        \n",
    "    def partie1():\n",
    "        segments = input.split('\\n\\n')\n",
    "        seeds = re.findall(r'\\d+', segments[0])\n",
    "\n",
    "        min_location = float('inf')\n",
    "        for x in map(int, seeds):\n",
    "            for seg in segments[1:]:\n",
    "                for conversion in re.findall(r'(\\d+) (\\d+) (\\d+)', seg):\n",
    "                    destination, start, delta = map(int, conversion)\n",
    "                    if x in range(start, start + delta):\n",
    "                        x += destination - start\n",
    "                        break\n",
    "\n",
    "            min_location = min(x, min_location)\n",
    "        print(f\"Réponse jour 5 partie 1 : {min_location}\")\n",
    "    \n",
    "    def partie2():\n",
    "        segments = input.split('\\n\\n')\n",
    "        intervals = []\n",
    "\n",
    "        for seed in re.findall(r'(\\d+) (\\d+)', segments[0]):\n",
    "            x1, dx = map(int, seed)\n",
    "            x2 = x1 + dx\n",
    "            intervals.append((x1, x2, 1))\n",
    "\n",
    "        min_location = float('inf')\n",
    "        while intervals:\n",
    "            x1, x2, level = intervals.pop()\n",
    "            if level == 8:\n",
    "                min_location = min(x1, min_location)\n",
    "                continue\n",
    "\n",
    "            for conversion in re.findall(r'(\\d+) (\\d+) (\\d+)', segments[level]):\n",
    "                z, y1, dy = map(int, conversion)\n",
    "                y2 = y1 + dy\n",
    "                diff = z - y1\n",
    "                if x2 <= y1 or y2 <= x1:    # no overlap\n",
    "                    continue\n",
    "                if x1 < y1:                 # split original interval at y1\n",
    "                    intervals.append((x1, y1, level))\n",
    "                    x1 = y1\n",
    "                if y2 < x2:                 # split original interval at y2\n",
    "                    intervals.append((y2, x2, level))\n",
    "                    x2 = y2\n",
    "                intervals.append((x1 + diff, x2 + diff, level + 1)) # perfect overlap -> make conversion and let pass to next nevel \n",
    "                break\n",
    "\n",
    "            else:\n",
    "                intervals.append((x1, x2, level + 1))\n",
    "        print(f\"Réponse jour 5 partie 2 : {min_location}\")\n",
    "    \n",
    "    partie1()\n",
    "    partie2()\n",
    "    \n",
    "j5()"
   ]
  },
  {
   "cell_type": "code",
   "execution_count": 18,
   "metadata": {},
   "outputs": [
    {
     "name": "stdout",
     "output_type": "stream",
     "text": [
      "Réponse jour 6 partie 1 : 12196800\n",
      "Réponse jour 6 partie 2 : 36919753\n"
     ]
    }
   ],
   "source": [
    "def j6():\n",
    "    filename = \"Input/inputj6.txt\"\n",
    "    def partie1():\n",
    "        def read_input(puzzle):\n",
    "            with open(filename, 'r') as f:\n",
    "                data = f.read().splitlines()\n",
    "            return data\n",
    "        \n",
    "        def get_distance_travelled(pair):\n",
    "            # exclude 0 and max value as it never makes sense\n",
    "            # start the counter\n",
    "            counter = 0\n",
    "            for i in range(1, pair[0]):\n",
    "                # distance travelled with the current power\n",
    "                distance = (pair[0] - i) * i\n",
    "                if distance > pair[1]:\n",
    "                    counter += 1\n",
    "\n",
    "            return counter\n",
    "\n",
    "        data = read_input('6')\n",
    "\n",
    "        times = [int(x) for x in data[0].split(': ')[1].split(' ') if x != '']\n",
    "        distances = [int(x) for x in data[1].split(': ')[1].split(' ') if x != '']\n",
    "\n",
    "        # create tuples of (time, distance)\n",
    "        pairs = [(times[i], distances[i]) for i in range(len(times))]\n",
    "        \n",
    "        result = 11\n",
    "        for pair in pairs:\n",
    "            result *= get_distance_travelled(pair)\n",
    "\n",
    "        print(f\"Réponse jour 6 partie 1 : {result}\")\n",
    "    \n",
    "    def partie2():\n",
    "        def read_input(puzzle):\n",
    "            with open(filename, 'r') as f:\n",
    "                data = f.read().splitlines()\n",
    "            return data\n",
    "        \n",
    "        def get_distance_travelled(pair):\n",
    "            # exclude 0 and max value as it never makes sense\n",
    "            # start the counter\n",
    "            counter = 0\n",
    "            for i in range(1, pair[0]):\n",
    "                # distance travelled with the current power\n",
    "                distance = (pair[0] - i) * i\n",
    "                if distance > pair[1]:\n",
    "                    counter += 1\n",
    "\n",
    "            return counter\n",
    "\n",
    "        data = read_input('6')\n",
    "        \n",
    "        # get the new time\n",
    "        new_time = data[0].split(': ')[1].split(' ')\n",
    "        final_time = \"\"\n",
    "        for i in new_time:\n",
    "            final_time += i\n",
    "        final_time = int(final_time)\n",
    "\n",
    "        # get the new distance\n",
    "        new_distance = data[1].split(': ')[1].split(' ')\n",
    "        final_distance = \"\"\n",
    "        for i in new_distance:\n",
    "            final_distance += i\n",
    "        final_distance = int(final_distance)\n",
    "        print(f\"Réponse jour 6 partie 2 : {get_distance_travelled((final_time, final_distance))}\")\n",
    "    \n",
    "    partie1()\n",
    "    partie2()\n",
    "    \n",
    "j6()"
   ]
  },
  {
   "cell_type": "code",
   "execution_count": 63,
   "metadata": {},
   "outputs": [
    {
     "name": "stdout",
     "output_type": "stream",
     "text": [
      "Réponse jour 7 partie 1 : \n",
      "Réponse jour 7 partie 2 : \n"
     ]
    }
   ],
   "source": [
    "def j7():\n",
    "    filename = \"Input/inputj7.txt\"\n",
    "    input = []\n",
    "    with open(filename) as file:\n",
    "        input = [line.strip() for line in file.readlines()]\n",
    "        \n",
    "    def partie1():\n",
    "        print(f\"Réponse jour 7 partie 1 : \")\n",
    "    \n",
    "    def partie2():\n",
    "        print(f\"Réponse jour 7 partie 2 : \")\n",
    "    \n",
    "    partie1()\n",
    "    partie2()\n",
    "    \n",
    "j7()"
   ]
  },
  {
   "cell_type": "code",
   "execution_count": 65,
   "metadata": {},
   "outputs": [
    {
     "name": "stdout",
     "output_type": "stream",
     "text": [
      "Réponse jour 8 partie 1 : \n",
      "Réponse jour 8 partie 2 : \n"
     ]
    }
   ],
   "source": [
    "def j8():\n",
    "    filename = \"Input/inputj8.txt\"\n",
    "    input = []\n",
    "    with open(filename) as file:\n",
    "        input = [line.strip() for line in file.readlines()]\n",
    "        \n",
    "    def partie1():\n",
    "        print(f\"Réponse jour 8 partie 1 : \")\n",
    "    \n",
    "    def partie2():\n",
    "        print(f\"Réponse jour 8 partie 2 : \")\n",
    "    \n",
    "    partie1()\n",
    "    partie2()\n",
    "    \n",
    "j8()"
   ]
  },
  {
   "cell_type": "code",
   "execution_count": 21,
   "metadata": {},
   "outputs": [
    {
     "name": "stdout",
     "output_type": "stream",
     "text": [
      "Réponse jour 9 partie 1 : 1904165718\n",
      "Réponse jour 9 partie 2 : 964\n"
     ]
    }
   ],
   "source": [
    "def j9():\n",
    "    filename = \"Input/inputj9.txt\"\n",
    "        \n",
    "    def partie1():\n",
    "        def read_input(puzzle):\n",
    "            with open(filename, 'r') as f:\n",
    "                data = f.read().splitlines()\n",
    "            return data\n",
    "\n",
    "        data = []\n",
    "        for line in read_input('9'):\n",
    "            int_list = [int(i) for i in line.split()]\n",
    "            data.append(int_list)\n",
    "\n",
    "        def first_part(int_list):\n",
    "            pattern = np.array(int_list, dtype=int).reshape(1, -1)\n",
    "\n",
    "            final_number = 0\n",
    "\n",
    "            while not np.all(np.diff(pattern) == 0):\n",
    "\n",
    "                final_number += pattern[-1, -1]\n",
    "                pattern = np.diff(pattern)\n",
    "\n",
    "            else:\n",
    "                final_number += pattern[-1, -1]\n",
    "\n",
    "            return final_number\n",
    "\n",
    "        result_1 = 0\n",
    "        for i in data:\n",
    "            result_1 += first_part(i)\n",
    "        print(f\"Réponse jour 9 partie 1 : {result_1}\")\n",
    "    \n",
    "    def partie2():\n",
    "        def read_input(puzzle):\n",
    "            with open(filename, 'r') as f:\n",
    "                data = f.read().splitlines()\n",
    "            return data\n",
    "\n",
    "        data = []\n",
    "        for line in read_input('9'):\n",
    "            int_list = [int(i) for i in line.split()]\n",
    "            data.append(int_list)\n",
    "            \n",
    "        def second_part(int_list):\n",
    "            pattern = np.array(int_list, dtype=int).reshape(1, -1)\n",
    "\n",
    "            final_number = 0 \n",
    "            sign = 1\n",
    "\n",
    "            while not np.all(np.diff(pattern) == 0):\n",
    "\n",
    "                final_number += pattern[0, 0] * sign\n",
    "                sign *= -1\n",
    "                pattern = np.diff(pattern)\n",
    "\n",
    "            else:\n",
    "                # still add the first number\n",
    "                final_number += pattern[0, 0] * sign\n",
    "                sign *= -1\n",
    "\n",
    "            return final_number\n",
    "\n",
    "        result_2 = 0\n",
    "        for i in data:\n",
    "            result_2 += second_part(i)\n",
    "        print(f\"Réponse jour 9 partie 2 : {result_2}\")\n",
    "    \n",
    "    partie1()\n",
    "    partie2()\n",
    "    \n",
    "j9()"
   ]
  },
  {
   "cell_type": "code",
   "execution_count": 66,
   "metadata": {},
   "outputs": [
    {
     "name": "stdout",
     "output_type": "stream",
     "text": [
      "Réponse jour 10 partie 1 : \n",
      "Réponse jour 10 partie 1 : \n"
     ]
    }
   ],
   "source": [
    "def j10():\n",
    "    filename = \"Input/inputj10.txt\"\n",
    "    input = []\n",
    "    with open(filename) as file:\n",
    "        input = [line.strip() for line in file.readlines()]\n",
    "        \n",
    "    def partie1():\n",
    "        print(f\"Réponse jour 10 partie 1 : \")\n",
    "    \n",
    "    def partie2():\n",
    "        print(f\"Réponse jour 10 partie 1 : \")\n",
    "    \n",
    "    partie1()\n",
    "    partie2()\n",
    "    \n",
    "j10()"
   ]
  },
  {
   "cell_type": "code",
   "execution_count": 67,
   "metadata": {},
   "outputs": [
    {
     "name": "stdout",
     "output_type": "stream",
     "text": [
      "Réponse jour 11 partie 1 : \n",
      "Réponse jour 11 partie 1 : \n"
     ]
    }
   ],
   "source": [
    "def j11():\n",
    "    filename = \"Input/inputj11.txt\"\n",
    "    input = []\n",
    "    with open(filename) as file:\n",
    "        input = [line.strip() for line in file.readlines()]\n",
    "        \n",
    "    def partie1():\n",
    "        print(f\"Réponse jour 11 partie 1 : \")\n",
    "    \n",
    "    def partie2():\n",
    "        print(f\"Réponse jour 11 partie 1 : \")\n",
    "    \n",
    "    partie1()\n",
    "    partie2()\n",
    "    \n",
    "j11()"
   ]
  },
  {
   "cell_type": "code",
   "execution_count": 68,
   "metadata": {},
   "outputs": [
    {
     "name": "stdout",
     "output_type": "stream",
     "text": [
      "Réponse jour 12 partie 1 : \n",
      "Réponse jour 12 partie 1 : \n"
     ]
    }
   ],
   "source": [
    "def j12():\n",
    "    filename = \"Input/inputj12.txt\"\n",
    "    input = []\n",
    "    with open(filename) as file:\n",
    "        input = [line.strip() for line in file.readlines()]\n",
    "        \n",
    "    def partie1():\n",
    "        print(f\"Réponse jour 12 partie 1 : \")\n",
    "    \n",
    "    def partie2():\n",
    "        print(f\"Réponse jour 12 partie 1 : \")\n",
    "    \n",
    "    partie1()\n",
    "    partie2()\n",
    "    \n",
    "j12()"
   ]
  },
  {
   "cell_type": "code",
   "execution_count": 69,
   "metadata": {},
   "outputs": [
    {
     "name": "stdout",
     "output_type": "stream",
     "text": [
      "Réponse jour 13 partie 1 : \n",
      "Réponse jour 13 partie 2 : \n"
     ]
    }
   ],
   "source": [
    "def j13():\n",
    "    filename = \"Input/inputj13.txt\"\n",
    "    input = []\n",
    "    with open(filename) as file:\n",
    "        input = [line.strip() for line in file.readlines()]\n",
    "        \n",
    "    def partie1():\n",
    "        print(f\"Réponse jour 13 partie 1 : \")\n",
    "    \n",
    "    def partie2():\n",
    "        print(f\"Réponse jour 13 partie 2 : \")\n",
    "    \n",
    "    partie1()\n",
    "    partie2()\n",
    "    \n",
    "j13()"
   ]
  },
  {
   "cell_type": "code",
   "execution_count": 70,
   "metadata": {},
   "outputs": [
    {
     "name": "stdout",
     "output_type": "stream",
     "text": [
      "Réponse jour 14 partie 1 : \n",
      "Réponse jour 14 partie 2 : \n"
     ]
    }
   ],
   "source": [
    "def j14():\n",
    "    filename = \"Input/inputj14.txt\"\n",
    "    input = []\n",
    "    with open(filename) as file:\n",
    "        input = [line.strip() for line in file.readlines()]\n",
    "        \n",
    "    def partie1():\n",
    "        print(f\"Réponse jour 14 partie 1 : \")\n",
    "    \n",
    "    def partie2():\n",
    "        print(f\"Réponse jour 14 partie 2 : \")\n",
    "    \n",
    "    partie1()\n",
    "    partie2()\n",
    "    \n",
    "j14()"
   ]
  },
  {
   "cell_type": "code",
   "execution_count": 71,
   "metadata": {},
   "outputs": [
    {
     "name": "stdout",
     "output_type": "stream",
     "text": [
      "Réponse jour 15 partie 1 : \n",
      "Réponse jour 15 partie 2 : \n"
     ]
    }
   ],
   "source": [
    "def j15():\n",
    "    filename = \"Input/inputj15.txt\"\n",
    "    input = []\n",
    "    with open(filename) as file:\n",
    "        input = [line.strip() for line in file.readlines()]\n",
    "        \n",
    "    def partie1():\n",
    "        print(f\"Réponse jour 15 partie 1 : \")\n",
    "    \n",
    "    def partie2():\n",
    "        print(f\"Réponse jour 15 partie 2 : \")\n",
    "    \n",
    "    partie1()\n",
    "    partie2()\n",
    "    \n",
    "j15()"
   ]
  },
  {
   "cell_type": "code",
   "execution_count": 72,
   "metadata": {},
   "outputs": [
    {
     "name": "stdout",
     "output_type": "stream",
     "text": [
      "Réponse jour 16 partie 1 : \n",
      "Réponse jour 16 partie 2 : \n"
     ]
    }
   ],
   "source": [
    "def j16():\n",
    "    filename = \"Input/inputj16.txt\"\n",
    "    input = []\n",
    "    with open(filename) as file:\n",
    "        input = [line.strip() for line in file.readlines()]\n",
    "        \n",
    "    def partie1():\n",
    "        print(f\"Réponse jour 16 partie 1 : \")\n",
    "    \n",
    "    def partie2():\n",
    "        print(f\"Réponse jour 16 partie 2 : \")\n",
    "    \n",
    "    partie1()\n",
    "    partie2()\n",
    "    \n",
    "j16()"
   ]
  },
  {
   "cell_type": "code",
   "execution_count": 73,
   "metadata": {},
   "outputs": [
    {
     "name": "stdout",
     "output_type": "stream",
     "text": [
      "Réponse jour 17 partie 1 : \n",
      "Réponse jour 17 partie 2 : \n"
     ]
    }
   ],
   "source": [
    "def j17():\n",
    "    filename = \"Input/inputj17.txt\"\n",
    "    input = []\n",
    "    with open(filename) as file:\n",
    "        input = [line.strip() for line in file.readlines()]\n",
    "        \n",
    "    def partie1():\n",
    "        print(f\"Réponse jour 17 partie 1 : \")\n",
    "    \n",
    "    def partie2():\n",
    "        print(f\"Réponse jour 17 partie 2 : \")\n",
    "    \n",
    "    partie1()\n",
    "    partie2()\n",
    "    \n",
    "j17()"
   ]
  },
  {
   "cell_type": "code",
   "execution_count": 74,
   "metadata": {},
   "outputs": [
    {
     "name": "stdout",
     "output_type": "stream",
     "text": [
      "Réponse jour 18 partie 1 : \n",
      "Réponse jour 18 partie 2 : \n"
     ]
    }
   ],
   "source": [
    "def j18():\n",
    "    filename = \"Input/inputj18.txt\"\n",
    "    input = []\n",
    "    with open(filename) as file:\n",
    "        input = [line.strip() for line in file.readlines()]\n",
    "        \n",
    "    def partie1():\n",
    "        print(f\"Réponse jour 18 partie 1 : \")\n",
    "    \n",
    "    def partie2():\n",
    "        print(f\"Réponse jour 18 partie 2 : \")\n",
    "    \n",
    "    partie1()\n",
    "    partie2()\n",
    "    \n",
    "j18()"
   ]
  },
  {
   "cell_type": "code",
   "execution_count": 75,
   "metadata": {},
   "outputs": [
    {
     "name": "stdout",
     "output_type": "stream",
     "text": [
      "Réponse jour 19 partie 1 : \n",
      "Réponse jour 19 partie 2 : \n"
     ]
    }
   ],
   "source": [
    "def j19():\n",
    "    filename = \"Input/inputj19.txt\"\n",
    "    input = []\n",
    "    with open(filename) as file:\n",
    "        input = [line.strip() for line in file.readlines()]\n",
    "        \n",
    "    def partie1():\n",
    "        print(f\"Réponse jour 19 partie 1 : \")\n",
    "    \n",
    "    def partie2():\n",
    "        print(f\"Réponse jour 19 partie 2 : \")\n",
    "    \n",
    "    partie1()\n",
    "    partie2()\n",
    "    \n",
    "j19()"
   ]
  },
  {
   "cell_type": "code",
   "execution_count": 76,
   "metadata": {},
   "outputs": [
    {
     "name": "stdout",
     "output_type": "stream",
     "text": [
      "Réponse jour 20 partie 1 : \n",
      "Réponse jour 20 partie 2 : \n"
     ]
    }
   ],
   "source": [
    "def j20():\n",
    "    filename = \"Input/inputj20.txt\"\n",
    "    input = []\n",
    "    with open(filename) as file:\n",
    "        input = [line.strip() for line in file.readlines()]\n",
    "        \n",
    "    def partie1():\n",
    "        print(f\"Réponse jour 20 partie 1 : \")\n",
    "    \n",
    "    def partie2():\n",
    "        print(f\"Réponse jour 20 partie 2 : \")\n",
    "    \n",
    "    partie1()\n",
    "    partie2()\n",
    "    \n",
    "j20()"
   ]
  },
  {
   "cell_type": "code",
   "execution_count": 77,
   "metadata": {},
   "outputs": [
    {
     "name": "stdout",
     "output_type": "stream",
     "text": [
      "Réponse jour 21 partie 1 : \n",
      "Réponse jour 21 partie 2 : \n"
     ]
    }
   ],
   "source": [
    "def j21():\n",
    "    filename = \"Input/inputj21.txt\"\n",
    "    input = []\n",
    "    with open(filename) as file:\n",
    "        input = [line.strip() for line in file.readlines()]\n",
    "        \n",
    "    def partie1():\n",
    "        print(f\"Réponse jour 21 partie 1 : \")\n",
    "    \n",
    "    def partie2():\n",
    "        print(f\"Réponse jour 21 partie 2 : \")\n",
    "    \n",
    "    partie1()\n",
    "    partie2()\n",
    "    \n",
    "j21()"
   ]
  },
  {
   "cell_type": "code",
   "execution_count": 78,
   "metadata": {},
   "outputs": [
    {
     "name": "stdout",
     "output_type": "stream",
     "text": [
      "Réponse jour 22 partie 1 : \n",
      "Réponse jour 22 partie 2 : \n"
     ]
    }
   ],
   "source": [
    "def j22():\n",
    "    filename = \"Input/inputj22.txt\"\n",
    "    input = []\n",
    "    with open(filename) as file:\n",
    "        input = [line.strip() for line in file.readlines()]\n",
    "        \n",
    "    def partie1():\n",
    "        print(f\"Réponse jour 22 partie 1 : \")\n",
    "    \n",
    "    def partie2():\n",
    "        print(f\"Réponse jour 22 partie 2 : \")\n",
    "    \n",
    "    partie1()\n",
    "    partie2()\n",
    "    \n",
    "j22()"
   ]
  },
  {
   "cell_type": "code",
   "execution_count": 79,
   "metadata": {},
   "outputs": [
    {
     "name": "stdout",
     "output_type": "stream",
     "text": [
      "Réponse jour 23 partie 1 : \n",
      "Réponse jour 23 partie 2 : \n"
     ]
    }
   ],
   "source": [
    "def j23():\n",
    "    filename = \"Input/inputj23.txt\"\n",
    "    input = []\n",
    "    with open(filename) as file:\n",
    "        input = [line.strip() for line in file.readlines()]\n",
    "        \n",
    "    def partie1():\n",
    "        print(f\"Réponse jour 23 partie 1 : \")\n",
    "    \n",
    "    def partie2():\n",
    "        print(f\"Réponse jour 23 partie 2 : \")\n",
    "    \n",
    "    partie1()\n",
    "    partie2()\n",
    "    \n",
    "j23()"
   ]
  },
  {
   "cell_type": "code",
   "execution_count": 80,
   "metadata": {},
   "outputs": [
    {
     "name": "stdout",
     "output_type": "stream",
     "text": [
      "Réponse jour 24 partie 1 : \n",
      "Réponse jour 24 partie 2 : \n"
     ]
    }
   ],
   "source": [
    "def j24():\n",
    "    filename = \"Input/inputj24.txt\"\n",
    "    input = []\n",
    "    with open(filename) as file:\n",
    "        input = [line.strip() for line in file.readlines()]\n",
    "        \n",
    "    def partie1():\n",
    "        print(f\"Réponse jour 24 partie 1 : \")\n",
    "    \n",
    "    def partie2():\n",
    "        print(f\"Réponse jour 24 partie 2 : \")\n",
    "    \n",
    "    partie1()\n",
    "    partie2()\n",
    "    \n",
    "j24()"
   ]
  },
  {
   "cell_type": "code",
   "execution_count": 82,
   "metadata": {},
   "outputs": [
    {
     "name": "stdout",
     "output_type": "stream",
     "text": [
      "Réponse jour 25 partie 1 : \n",
      "Réponse jour 25 partie 2 : \n"
     ]
    }
   ],
   "source": [
    "def j25():\n",
    "    filename = \"Input/inputj25.txt\"\n",
    "    input = []\n",
    "    with open(filename) as file:\n",
    "        input = [line.strip() for line in file.readlines()]\n",
    "        \n",
    "    def partie1():\n",
    "        print(f\"Réponse jour 25 partie 1 : \")\n",
    "    \n",
    "    def partie2():\n",
    "        print(f\"Réponse jour 25 partie 2 : \")\n",
    "    \n",
    "    partie1()\n",
    "    partie2()\n",
    "    \n",
    "j25()"
   ]
  },
  {
   "cell_type": "code",
   "execution_count": null,
   "metadata": {},
   "outputs": [],
   "source": []
  }
 ],
 "metadata": {
  "kernelspec": {
   "display_name": "base",
   "language": "python",
   "name": "python3"
  },
  "language_info": {
   "codemirror_mode": {
    "name": "ipython",
    "version": 3
   },
   "file_extension": ".py",
   "mimetype": "text/x-python",
   "name": "python",
   "nbconvert_exporter": "python",
   "pygments_lexer": "ipython3",
   "version": "3.11.5"
  }
 },
 "nbformat": 4,
 "nbformat_minor": 2
}
